{
 "cells": [
  {
   "cell_type": "markdown",
   "id": "6cf1e486",
   "metadata": {},
   "source": [
    "3. 네이버 뉴스 페이지를 활용하여 프로그램 작성하라. (셀레니움을 사용하지 마시오.)\n",
    " 언론사별 많이 본 뉴스 20개(제목, 링크)를 모두 추출하라. (25) - https://news.naver.com/main/ranking/popularDay.naver - 네이버 뉴스에서 제공하는 언론사는 아래와 같으며, {종합, 방송/통신} 대상으로 임의의 언론사를 입력받도록 하라. (검색 당일 날짜 대상)\n"
   ]
  },
  {
   "cell_type": "code",
   "execution_count": 16,
   "id": "69512ecc",
   "metadata": {},
   "outputs": [
    {
     "ename": "SyntaxError",
     "evalue": "invalid syntax (2871533309.py, line 19)",
     "output_type": "error",
     "traceback": [
      "\u001b[1;36m  Input \u001b[1;32mIn [16]\u001b[1;36m\u001b[0m\n\u001b[1;33m    url = f'https://media.naver.com/press/{company_id}/ranking?type=popular'\u001b[0m\n\u001b[1;37m    ^\u001b[0m\n\u001b[1;31mSyntaxError\u001b[0m\u001b[1;31m:\u001b[0m invalid syntax\n"
     ]
    }
   ],
   "source": [
    "from bs4 import BeautifulSoup\n",
    "from selenium import webdriver\n",
    "import urllib.request\n",
    "import pandas as pd\n",
    "from datetime import datetime\n",
    "import csv\n",
    "\n",
    "newspaper_dict = {\n",
    "    '경향': '032', '국민': '005', '동아': '020', '문화': '021', '서울': '081', '세계': '022',\n",
    "    '조선': '023', '중앙': '025', '한겨레': '028', '한국': '469'\n",
    "}\n",
    "\n",
    "company = input('언론사명 : ')\n",
    "\n",
    "company_id = newspaper_dict[newspaper_name]\n",
    "\n",
    "news_df = pd.DataFrame(columns = ('Title','Link')\n",
    "\n",
    "url = 'https://news.naver.com/main/ranking/popularDay.naver'\n",
    "html = urllib.request.urlopen(url)\n",
    "soup = BeautifulSoup(html, 'html.parser')\n",
    "\n",
    "for i in range(20):\n",
    "    \n",
    "    title = soup.select(f'div.press_ranking_home > div:nth-child(3) > ul > li:nth-child({i}) > a > div.list_content > strong')\n",
    "    link = soup.select(f'div.press_ranking_home > div:nth-child(3) > ul > li:nth-child({i}) > a')\n",
    "    news_df.loc[i] = [title,link]\n",
    "    i += 1                       \n",
    "                    \n",
    "news_df\n",
    " \n"
   ]
  }
 ],
 "metadata": {
  "kernelspec": {
   "display_name": "Python 3 (ipykernel)",
   "language": "python",
   "name": "python3"
  },
  "language_info": {
   "codemirror_mode": {
    "name": "ipython",
    "version": 3
   },
   "file_extension": ".py",
   "mimetype": "text/x-python",
   "name": "python",
   "nbconvert_exporter": "python",
   "pygments_lexer": "ipython3",
   "version": "3.9.12"
  }
 },
 "nbformat": 4,
 "nbformat_minor": 5
}
