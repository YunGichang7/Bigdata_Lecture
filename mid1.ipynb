{
 "cells": [
  {
   "cell_type": "markdown",
   "id": "9487f41d",
   "metadata": {},
   "source": [
    "1. 카페베네(http://www.caffebene.co.kr/store/local.html)의 지역별 매장을 추출하여 아래와 같이 출력하라(매장명, 주소, 전화번호 순). (25) - selenium 사용\n",
    "- “울산” 지역 매장을 csv 파일(caffebene_울산.csv)로 저장"
   ]
  },
  {
   "cell_type": "code",
   "execution_count": 19,
   "id": "ffd447c6",
   "metadata": {},
   "outputs": [
    {
     "name": "stdout",
     "output_type": "stream",
     "text": [
      "['울산']\n",
      "2\n",
      "3\n",
      "4\n",
      "5\n",
      "6\n"
     ]
    },
    {
     "data": {
      "text/html": [
       "<div>\n",
       "<style scoped>\n",
       "    .dataframe tbody tr th:only-of-type {\n",
       "        vertical-align: middle;\n",
       "    }\n",
       "\n",
       "    .dataframe tbody tr th {\n",
       "        vertical-align: top;\n",
       "    }\n",
       "\n",
       "    .dataframe thead th {\n",
       "        text-align: right;\n",
       "    }\n",
       "</style>\n",
       "<table border=\"1\" class=\"dataframe\">\n",
       "  <thead>\n",
       "    <tr style=\"text-align: right;\">\n",
       "      <th></th>\n",
       "      <th>StoreName</th>\n",
       "      <th>Address</th>\n",
       "      <th>Telephone</th>\n",
       "    </tr>\n",
       "  </thead>\n",
       "  <tbody>\n",
       "    <tr>\n",
       "      <th>1</th>\n",
       "      <td>울산성안점</td>\n",
       "      <td>울산광역시 중구 백양로 76(성안동  1층)</td>\n",
       "      <td>052-245-2005</td>\n",
       "    </tr>\n",
       "    <tr>\n",
       "      <th>2</th>\n",
       "      <td>울산세이브존점</td>\n",
       "      <td>울산광역시 남구 삼산동 1497-1</td>\n",
       "      <td>052-257-6232</td>\n",
       "    </tr>\n",
       "    <tr>\n",
       "      <th>3</th>\n",
       "      <td>울산우정혁신도시점</td>\n",
       "      <td>울산광역시 중구 복산동 278-11</td>\n",
       "      <td>052-282-5959</td>\n",
       "    </tr>\n",
       "    <tr>\n",
       "      <th>4</th>\n",
       "      <td>울산작천정점</td>\n",
       "      <td>울산광역시 울주군 삼남면 등억알프스로 50</td>\n",
       "      <td>052-254-4456</td>\n",
       "    </tr>\n",
       "    <tr>\n",
       "      <th>5</th>\n",
       "      <td>울산정자해변점</td>\n",
       "      <td>울산광역시 북구 동해안로 1615(산하동)</td>\n",
       "      <td>052-291-0630</td>\n",
       "    </tr>\n",
       "  </tbody>\n",
       "</table>\n",
       "</div>"
      ],
      "text/plain": [
       "   StoreName                   Address     Telephone\n",
       "1      울산성안점  울산광역시 중구 백양로 76(성안동  1층)  052-245-2005\n",
       "2    울산세이브존점       울산광역시 남구 삼산동 1497-1  052-257-6232\n",
       "3  울산우정혁신도시점       울산광역시 중구 복산동 278-11  052-282-5959\n",
       "4     울산작천정점  울산광역시 울주군 삼남면 등억알프스로 50   052-254-4456\n",
       "5    울산정자해변점   울산광역시 북구 동해안로 1615(산하동)  052-291-0630"
      ]
     },
     "execution_count": 19,
     "metadata": {},
     "output_type": "execute_result"
    }
   ],
   "source": [
    "from bs4 import BeautifulSoup\n",
    "import pandas as pd\n",
    "import datetime\n",
    "from selenium import webdriver\n",
    "import time\n",
    "from selenium.webdriver.common.by import By\n",
    "from itertools import count\n",
    "import time\n",
    "from tqdm import tqdm_notebook\n",
    "import pdb\n",
    "import re\n",
    "\n",
    "driver = webdriver.Chrome(r'C:/ProgramData/Microsoft/Windows/Start Menu/Programs/chromedriver.exe')\n",
    "driver.get('http://www.caffebene.co.kr/store/local.html')\n",
    "time.sleep(1)\n",
    "\n",
    "key_list = ['울산']\n",
    "\n",
    "\n",
    "bene_df = pd.DataFrame(columns = ('StoreName','Address','Telephone'))\n",
    "\n",
    "\n",
    "r_distance = re.compile(r'\\([0-9]+(\\.[0-9]+)? km\\)')\n",
    "element = driver.find_element(By.XPATH, '/html/body/div/div/section[2]/div[2]/div[2]/div[1]/div/form/input').send_keys(key_list)    \n",
    "element_button = driver.find_element(By.XPATH, '/html/body/div/div/section[2]/div[2]/div[2]/div[1]/div/form/button').click()\n",
    "element= driver.find_element(By.XPATH, '/html/body/div/div/section[2]/div[2]/div[2]/div[1]/div/form/input').clear()\n",
    "time.sleep(1)\n",
    "print(key_list)\n",
    "    \n",
    "html = driver.page_source           # 검색 버턴 클릭 후 검색결과 HTML 문서 읽어옴\n",
    "soup = BeautifulSoup(html, 'html.parser')\n",
    "subject_list = soup.select('div', class_='store-search-body')\n",
    "    \n",
    "for j in range(1,len(subject_list)):\n",
    "    try:\n",
    "        name = soup.select(f'li:nth-child({j}) > div > h4 > a')[0].text\n",
    "        add = soup.select(f'li:nth-child({j}) > div > p.addr')[0].text\n",
    "        tel = soup.select(f'li:nth-child({j}) > div > p.tel')[0].text\n",
    "        bene_df.loc[j] = [name,add,tel]\n",
    "        j += 1\n",
    "    except:\n",
    "        continue\n",
    "\n",
    "    \n",
    "bene_df.to_csv('caffebene_울산.csv',encoding='utf-8')\n",
    "driver.quit()\n",
    "bene_df"
   ]
  },
  {
   "cell_type": "code",
   "execution_count": null,
   "id": "b0017bad",
   "metadata": {},
   "outputs": [],
   "source": []
  }
 ],
 "metadata": {
  "kernelspec": {
   "display_name": "Python 3 (ipykernel)",
   "language": "python",
   "name": "python3"
  },
  "language_info": {
   "codemirror_mode": {
    "name": "ipython",
    "version": 3
   },
   "file_extension": ".py",
   "mimetype": "text/x-python",
   "name": "python",
   "nbconvert_exporter": "python",
   "pygments_lexer": "ipython3",
   "version": "3.9.12"
  }
 },
 "nbformat": 4,
 "nbformat_minor": 5
}
